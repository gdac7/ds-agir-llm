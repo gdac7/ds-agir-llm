{
 "cells": [
  {
   "cell_type": "code",
   "execution_count": 74,
   "metadata": {},
   "outputs": [],
   "source": [
    "import pandas as pd\n",
    "df = pd.read_json('en_joint_intents_labels.json')"
   ]
  },
  {
   "cell_type": "code",
   "execution_count": 75,
   "metadata": {},
   "outputs": [
    {
     "data": {
      "text/html": [
       "<div>\n",
       "<style scoped>\n",
       "    .dataframe tbody tr th:only-of-type {\n",
       "        vertical-align: middle;\n",
       "    }\n",
       "\n",
       "    .dataframe tbody tr th {\n",
       "        vertical-align: top;\n",
       "    }\n",
       "\n",
       "    .dataframe thead th {\n",
       "        text-align: right;\n",
       "    }\n",
       "</style>\n",
       "<table border=\"1\" class=\"dataframe\">\n",
       "  <thead>\n",
       "    <tr style=\"text-align: right;\">\n",
       "      <th></th>\n",
       "      <th>sentence</th>\n",
       "      <th>labels</th>\n",
       "    </tr>\n",
       "  </thead>\n",
       "  <tbody>\n",
       "    <tr>\n",
       "      <th>0</th>\n",
       "      <td>for group dorms set minimum bandwidth to 60 mbps</td>\n",
       "      <td>[{'class': ['resource management'], 'targets':...</td>\n",
       "    </tr>\n",
       "    <tr>\n",
       "      <th>1</th>\n",
       "      <td>for group students set minimum bandwidth to 50...</td>\n",
       "      <td>[{'class': ['resource management'], 'targets':...</td>\n",
       "    </tr>\n",
       "    <tr>\n",
       "      <th>2</th>\n",
       "      <td>from endpoint 19.16.1.1 to endpoint 19.16.1.1 ...</td>\n",
       "      <td>[{'class': ['traffic control', 'access control...</td>\n",
       "    </tr>\n",
       "    <tr>\n",
       "      <th>3</th>\n",
       "      <td>from endpoint 19.16.1.1 to endpoint 172.16.29....</td>\n",
       "      <td>[{'class': ['traffic control', 'access control...</td>\n",
       "    </tr>\n",
       "    <tr>\n",
       "      <th>4</th>\n",
       "      <td>from endpoint 19.16.1.1 to endpoint 172.16.7.2...</td>\n",
       "      <td>[{'class': ['resource management'], 'targets':...</td>\n",
       "    </tr>\n",
       "    <tr>\n",
       "      <th>...</th>\n",
       "      <td>...</td>\n",
       "      <td>...</td>\n",
       "    </tr>\n",
       "    <tr>\n",
       "      <th>6626</th>\n",
       "      <td>from endpoint 19.16.1.1 to endpoint 172.16.7.5...</td>\n",
       "      <td>[{'class': ['quality of service'], 'targets': ...</td>\n",
       "    </tr>\n",
       "    <tr>\n",
       "      <th>6627</th>\n",
       "      <td>from endpoint 19.16.1.1 to endpoint 172.16.2.8...</td>\n",
       "      <td>[{'class': ['quality of service'], 'targets': ...</td>\n",
       "    </tr>\n",
       "    <tr>\n",
       "      <th>6628</th>\n",
       "      <td>from endpoint 19.16.1.1 to endpoint 172.16.37....</td>\n",
       "      <td>[{'class': ['quality of service'], 'targets': ...</td>\n",
       "    </tr>\n",
       "    <tr>\n",
       "      <th>6629</th>\n",
       "      <td>from endpoint 19.16.1.1 to endpoint 172.16.7.3...</td>\n",
       "      <td>[{'class': ['quality of service'], 'targets': ...</td>\n",
       "    </tr>\n",
       "    <tr>\n",
       "      <th>6630</th>\n",
       "      <td>for group dorms set minimum bandwidth to 60 mb...</td>\n",
       "      <td>[{'class': ['resource management'], 'targets':...</td>\n",
       "    </tr>\n",
       "  </tbody>\n",
       "</table>\n",
       "<p>6631 rows × 2 columns</p>\n",
       "</div>"
      ],
      "text/plain": [
       "                                               sentence  \\\n",
       "0      for group dorms set minimum bandwidth to 60 mbps   \n",
       "1     for group students set minimum bandwidth to 50...   \n",
       "2     from endpoint 19.16.1.1 to endpoint 19.16.1.1 ...   \n",
       "3     from endpoint 19.16.1.1 to endpoint 172.16.29....   \n",
       "4     from endpoint 19.16.1.1 to endpoint 172.16.7.2...   \n",
       "...                                                 ...   \n",
       "6626  from endpoint 19.16.1.1 to endpoint 172.16.7.5...   \n",
       "6627  from endpoint 19.16.1.1 to endpoint 172.16.2.8...   \n",
       "6628  from endpoint 19.16.1.1 to endpoint 172.16.37....   \n",
       "6629  from endpoint 19.16.1.1 to endpoint 172.16.7.3...   \n",
       "6630  for group dorms set minimum bandwidth to 60 mb...   \n",
       "\n",
       "                                                 labels  \n",
       "0     [{'class': ['resource management'], 'targets':...  \n",
       "1     [{'class': ['resource management'], 'targets':...  \n",
       "2     [{'class': ['traffic control', 'access control...  \n",
       "3     [{'class': ['traffic control', 'access control...  \n",
       "4     [{'class': ['resource management'], 'targets':...  \n",
       "...                                                 ...  \n",
       "6626  [{'class': ['quality of service'], 'targets': ...  \n",
       "6627  [{'class': ['quality of service'], 'targets': ...  \n",
       "6628  [{'class': ['quality of service'], 'targets': ...  \n",
       "6629  [{'class': ['quality of service'], 'targets': ...  \n",
       "6630  [{'class': ['resource management'], 'targets':...  \n",
       "\n",
       "[6631 rows x 2 columns]"
      ]
     },
     "execution_count": 75,
     "metadata": {},
     "output_type": "execute_result"
    }
   ],
   "source": [
    "df"
   ]
  },
  {
   "cell_type": "code",
   "execution_count": 76,
   "metadata": {},
   "outputs": [
    {
     "data": {
      "text/plain": [
       "0       [{'class': ['resource management'], 'targets':...\n",
       "1       [{'class': ['resource management'], 'targets':...\n",
       "2       [{'class': ['traffic control', 'access control...\n",
       "3       [{'class': ['traffic control', 'access control...\n",
       "4       [{'class': ['resource management'], 'targets':...\n",
       "                              ...                        \n",
       "6626    [{'class': ['quality of service'], 'targets': ...\n",
       "6627    [{'class': ['quality of service'], 'targets': ...\n",
       "6628    [{'class': ['quality of service'], 'targets': ...\n",
       "6629    [{'class': ['quality of service'], 'targets': ...\n",
       "6630    [{'class': ['resource management'], 'targets':...\n",
       "Name: labels, Length: 6631, dtype: object"
      ]
     },
     "execution_count": 76,
     "metadata": {},
     "output_type": "execute_result"
    }
   ],
   "source": [
    "def remove_timestamp(row):\n",
    "    new_row = []\n",
    "    for intent in row:\n",
    "        start = intent['timestamps'][0]\n",
    "        end = intent['timestamps'][1]\n",
    "        intent['start_time'] = start\n",
    "        intent['end_time'] = end\n",
    "        intent.pop('timestamps')\n",
    "        new_row.append(intent)\n",
    "    return new_row\n",
    "\n",
    "    \n",
    "\n",
    "\n",
    "df['labels'].apply(remove_timestamp)\n"
   ]
  },
  {
   "cell_type": "code",
   "execution_count": 77,
   "metadata": {},
   "outputs": [],
   "source": [
    "import json\n",
    "df_serializable = df.to_dict(orient='records')\n",
    "with open('output.json', 'w') as file:\n",
    "    json.dump(df_serializable, file, indent=4)"
   ]
  },
  {
   "cell_type": "code",
   "execution_count": null,
   "metadata": {},
   "outputs": [],
   "source": []
  },
  {
   "cell_type": "code",
   "execution_count": null,
   "metadata": {},
   "outputs": [],
   "source": []
  }
 ],
 "metadata": {
  "kernelspec": {
   "display_name": "venv",
   "language": "python",
   "name": "python3"
  },
  "language_info": {
   "codemirror_mode": {
    "name": "ipython",
    "version": 3
   },
   "file_extension": ".py",
   "mimetype": "text/x-python",
   "name": "python",
   "nbconvert_exporter": "python",
   "pygments_lexer": "ipython3",
   "version": "3.10.12"
  }
 },
 "nbformat": 4,
 "nbformat_minor": 2
}
